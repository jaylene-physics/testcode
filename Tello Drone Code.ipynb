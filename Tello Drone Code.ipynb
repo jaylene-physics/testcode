{
 "cells": [
  {
   "cell_type": "code",
   "execution_count": 1,
   "metadata": {},
   "outputs": [
    {
     "ename": "OSError",
     "evalue": "[WinError 10049] The requested address is not valid in its context",
     "output_type": "error",
     "traceback": [
      "\u001b[1;31m---------------------------------------------------------------------------\u001b[0m",
      "\u001b[1;31mOSError\u001b[0m                                   Traceback (most recent call last)",
      "\u001b[1;32m<ipython-input-1-846c85f0d657>\u001b[0m in \u001b[0;36m<module>\u001b[1;34m\u001b[0m\n\u001b[0;32m     13\u001b[0m \u001b[1;33m\u001b[0m\u001b[0m\n\u001b[0;32m     14\u001b[0m \u001b[1;31m# Let's be explicit and bind to a local port on our machine where Tello can send messages\u001b[0m\u001b[1;33m\u001b[0m\u001b[1;33m\u001b[0m\u001b[1;33m\u001b[0m\u001b[0m\n\u001b[1;32m---> 15\u001b[1;33m \u001b[0msock\u001b[0m\u001b[1;33m.\u001b[0m\u001b[0mbind\u001b[0m\u001b[1;33m(\u001b[0m\u001b[1;33m(\u001b[0m\u001b[1;34m'192.168.10.2'\u001b[0m\u001b[1;33m,\u001b[0m \u001b[1;36m9000\u001b[0m\u001b[1;33m)\u001b[0m\u001b[1;33m)\u001b[0m\u001b[1;33m\u001b[0m\u001b[1;33m\u001b[0m\u001b[0m\n\u001b[0m\u001b[0;32m     16\u001b[0m \u001b[1;33m\u001b[0m\u001b[0m\n\u001b[0;32m     17\u001b[0m \u001b[1;31m# Function to send messages to Tello\u001b[0m\u001b[1;33m\u001b[0m\u001b[1;33m\u001b[0m\u001b[1;33m\u001b[0m\u001b[0m\n",
      "\u001b[1;31mOSError\u001b[0m: [WinError 10049] The requested address is not valid in its context"
     ]
    }
   ],
   "source": [
    "#This example script demonstrates how to send/receive commands to/from Tello\n",
    "# Credit to Dennis Baldwin\n",
    "\n",
    "# Import the built-in socket and time modules\n",
    "import socket\n",
    "import time\n",
    "\n",
    "# IP and port of Tello\n",
    "tello_address = ('192.168.10.1', 8889)\n",
    "\n",
    "# Create a UDP connection that we'll send the command to\n",
    "sock = socket.socket(socket.AF_INET, socket.SOCK_DGRAM)\n",
    "\n",
    "# Let's be explicit and bind to a local port on our machine where Tello can send messages\n",
    "sock.bind(('192.168.10.2', 9000))\n",
    "\n",
    "# Function to send messages to Tello\n",
    "def send(message):\n",
    "    try:\n",
    "        sock.sendto(message.encode(), tello_address)\n",
    "        print(\"Sending message: \" + message)\n",
    "    except Exception as e:\n",
    "        print(\"Error sending: \" + str(e))\n",
    "\n",
    "# Function that listens for messages from Tello and prints them to the screen\n",
    "def receive():\n",
    "    try:\n",
    "        response, ip_address = sock.recvfrom(128)\n",
    "        print(\"Received message: \" + response.decode(encoding='utf-8') + \" from Tello with IP: \" + str(ip_address))\n",
    "    except Exception as e:\n",
    "        print(\"Error receiving: \" + str(e))\n",
    "\n",
    "              \n",
    "\n",
    "# Send Tello into command mode\n",
    "send(\"command\")\n",
    "\n",
    "# Receive response from Tello\n",
    "receive()\n",
    "\n",
    "#Type in your next commands\n",
    "send(\"takeoff\")\n",
    "time.sleep(5)\n",
    "\n",
    "send(\"flip f\")\n",
    "time.sleep(5)\n",
    "\n",
    "send(\"land\")\n",
    "time.sleep(5)\n",
    "\n",
    "\n",
    "# Close the UDP socket\n",
    "sock.close()"
   ]
  },
  {
   "cell_type": "code",
   "execution_count": null,
   "metadata": {},
   "outputs": [],
   "source": []
  },
  {
   "cell_type": "code",
   "execution_count": null,
   "metadata": {},
   "outputs": [],
   "source": []
  },
  {
   "cell_type": "code",
   "execution_count": null,
   "metadata": {},
   "outputs": [],
   "source": []
  },
  {
   "cell_type": "code",
   "execution_count": null,
   "metadata": {},
   "outputs": [],
   "source": []
  }
 ],
 "metadata": {
  "kernelspec": {
   "display_name": "Python 3",
   "language": "python",
   "name": "python3"
  },
  "language_info": {
   "codemirror_mode": {
    "name": "ipython",
    "version": 3
   },
   "file_extension": ".py",
   "mimetype": "text/x-python",
   "name": "python",
   "nbconvert_exporter": "python",
   "pygments_lexer": "ipython3",
   "version": "3.7.1"
  }
 },
 "nbformat": 4,
 "nbformat_minor": 2
}
